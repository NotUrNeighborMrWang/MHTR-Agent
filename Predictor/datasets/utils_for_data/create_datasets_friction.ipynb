{
 "cells": [
  {
   "cell_type": "code",
   "execution_count": 9,
   "metadata": {},
   "outputs": [],
   "source": [
    "import matplotlib.pyplot as plt\n",
    "import pandas as pd\n",
    "import numpy as np\n",
    "import matplotlib.pyplot as plt  \n",
    "from vmdpy import VMD  \n",
    "from scipy.fftpack import fft\n",
    "import os\n",
    "import json\n",
    "\n",
    "import warnings\n",
    "warnings.simplefilter(action='ignore', category=FutureWarning)\n",
    "\n",
    "import platform\n",
    "system_name = platform.system()"
   ]
  },
  {
   "cell_type": "code",
   "execution_count": 10,
   "metadata": {},
   "outputs": [],
   "source": [
    "tt_flag = \"test\"\n",
    "if tt_flag == \"train\":\n",
    "    data_path = \"../data/train/\"\n",
    "elif tt_flag == \"test\":\n",
    "    data_path = \"../data/test/\"\n",
    "    \n",
    "metallographic_path = data_path + \"metallographic\"\n",
    "friction_directory = data_path + \"friction\" "
   ]
  },
  {
   "cell_type": "code",
   "execution_count": 11,
   "metadata": {},
   "outputs": [],
   "source": [
    "grade_num_list = [\"1cr\", \"2cr\", \"3cr\", \"4cr\"]\n",
    "process_num_list = [\"process_01\", \"process_02\", \"process_03\", \"process_04\", \"process_05\", \"process_06\", \"process_07\", \"process_08\",\n",
    "                    \"process_09\", \"process_10\", \"process_11\", \"process_12\", \"process_13\", \"process_14\", \"process_15\", \"process_16\", \"process_17\", \"process_18\"]\n",
    "\n",
    "grade_dict = {'1cr': ['0.08', '1.00', '1.00', '0.04', '0.03', '0.06', '11.50', '86.29'],\n",
    "              '2cr': ['0.16', '1.00', '1.00', '0.04', '0.03', '0.06', '13.00', '84.71'],\n",
    "              '3cr': ['0.26', '1.00', '1.00', '0.04', '0.03', '0.06', '12.00', '85.61'],\n",
    "              '4cr': ['0.36', '0.60', '0.80', '1.04', '0.03', '0.06', '13.00', '84.11']}\n",
    "process_dict = {'process_01': ['1050', '1000', '160'],\n",
    "                'process_02': ['1050', '1000', '200'],\n",
    "                'process_03': ['1050', '1000', '240'],\n",
    "                'process_04': ['1050', '1020', '160'],\n",
    "                'process_05': ['1050', '1020', '200'],\n",
    "                'process_06': ['1050', '1020', '240'],\n",
    "                'process_07': ['1050', '1040', '160'],\n",
    "                'process_08': ['1050', '1040', '200'],\n",
    "                'process_09': ['1050', '1040', '240'],\n",
    "                'process_10': ['980', '1000', '160'],\n",
    "                'process_11': ['980', '1000', '200'],\n",
    "                'process_12': ['980', '1000', '240'],\n",
    "                'process_13': ['980', '1020', '160'],\n",
    "                'process_14': ['980', '1020', '200'],\n",
    "                'process_15': ['980', '1020', '240'],\n",
    "                'process_16': ['980', '1040', '160'],\n",
    "                'process_17': ['980', '1040', '200'],\n",
    "                'process_18': ['980', '1040', '240']}"
   ]
  },
  {
   "cell_type": "code",
   "execution_count": 12,
   "metadata": {},
   "outputs": [
    {
     "name": "stdout",
     "output_type": "stream",
     "text": [
      "100\n"
     ]
    }
   ],
   "source": [
    "surface_image_list = []\n",
    "\n",
    "def get_image_paths(folder_path):\n",
    "    image_paths = []\n",
    "    for root, dirs, files in os.walk(folder_path):\n",
    "        for file in files:\n",
    "            if file.endswith(('.jpg', '.png', '.jpeg')):\n",
    "                image_paths.append(os.path.join(root, file))  \n",
    "    return image_paths\n",
    "\n",
    "\n",
    "for grade_num in grade_num_list:\n",
    "    for process_num in process_num_list:\n",
    "\n",
    "        pic_surface_path = metallographic_path + \"/\" + grade_num + \"/\" + process_num + \"/surface\" \n",
    "        for root, dirs, files in os.walk(pic_surface_path):\n",
    "            for file in files:\n",
    "                if file.endswith(('.jpg', '.png', '.jpeg')): \n",
    "                    surface_image_list.append(os.path.join(root, file))\n",
    "\n",
    "print( len(surface_image_list))"
   ]
  },
  {
   "cell_type": "code",
   "execution_count": 13,
   "metadata": {},
   "outputs": [],
   "source": [
    "def list_txt_files(directory):\n",
    "    back_list = []\n",
    "    for root, dirs, files in os.walk(directory):\n",
    "        for file in files:\n",
    "            if file.endswith(\".txt\"):\n",
    "                # print(os.path.join(root, file))\n",
    "                back_list.append(os.path.join(root, file))\n",
    "    return back_list\n",
    "\n",
    "file_path_list = list_txt_files(friction_directory)"
   ]
  },
  {
   "cell_type": "code",
   "execution_count": 14,
   "metadata": {},
   "outputs": [],
   "source": [
    "def do_vmd(file_path):\n",
    "    \n",
    "    data = pd.read_csv(file_path, delim_whitespace=True, encoding='ansi')\n",
    "\n",
    "    time_sec = data['时间(Sec)']\n",
    "    friction_force = data['摩擦系数']\n",
    "    \n",
    "    output_data = pd.DataFrame({\n",
    "        '时间(Sec)': time_sec[:-10],\n",
    "        '摩擦系数': friction_force[:-10]\n",
    "    })\n",
    "    \n",
    "    output_file_path = file_path[:-4] + \".csv\"\n",
    "    output_data.to_csv(output_file_path, index=False, encoding='utf-8-sig')\n",
    "    \n",
    "    filename= output_file_path\n",
    "    f = pd.read_csv(filename,usecols=[1])\n",
    "\n",
    "    alpha = 7000        # moderate bandwidth constraint  \n",
    "    tau = 0.            # noise-tolerance (no strict fidelity enforcement)  \n",
    "    K = 2               # 3 modes  \n",
    "    DC = 0              # no DC part imposed  \n",
    "    init = 1            # initialize omegas uniformly  \n",
    "    tol = 1e-7  \n",
    "    \n",
    "    u, u_hat, omega = VMD(f.values[:-10], alpha, tau, K, DC, init, tol) \n",
    "    friction_value = f.iloc[:, 0].tolist()\n",
    "\n",
    "    save_flag = 0 \n",
    "    imf_list = []\n",
    "    for i  in range(K):\n",
    "        a = u[i,:]\n",
    "        a_rounded = [round(num, 3) for num in a]\n",
    "        imf_list.append(a_rounded[:570]) \n",
    "        if save_flag:\n",
    "            dataframe = pd.DataFrame({'v{}'.format(i+1):a})\n",
    "            dataframe.to_csv(file_path[:-4] + \"_VMDban-%d.csv\"%(i+1),index=False,sep=',')  \n",
    "\n",
    "    return friction_value[:570]"
   ]
  },
  {
   "cell_type": "code",
   "execution_count": 15,
   "metadata": {},
   "outputs": [],
   "source": [
    "friction_data_list = []\n",
    "for pic_surface_path in surface_image_list:\n",
    "    path_parts = os.path.normpath(pic_surface_path).split(os.sep)\n",
    "    if system_name == \"Windows\":\n",
    "        image_path = \"../../datasets\" + pic_surface_path[2:]\n",
    "    elif system_name == \"Linux\":\n",
    "        image_path = \"/hy-tmp/datasets\" + pic_surface_path[2:]\n",
    "    \n",
    "    grade_value = grade_dict[path_parts[-4]]\n",
    "    process_value = process_dict[path_parts[-3]]\n",
    "\n",
    "    try:\n",
    "        friction_path = \"../../datasets/\" + path_parts[1] + \"/\" + path_parts[2] + \"/friction/\" + path_parts[4] + \"/process\"  + path_parts[5][-2:] + \".txt\"\n",
    "        \n",
    "        friction_list = do_vmd(friction_path)\n",
    "\n",
    "    except FileNotFoundError:\n",
    "        pass \n",
    "    \n",
    "    friction_data_list.append({\n",
    "        \"image\": image_path,\n",
    "        \"grade\": grade_value,\n",
    "        \"process\": process_value,\n",
    "        \"friction_list\": friction_list\n",
    "    })\n",
    "\n"
   ]
  },
  {
   "cell_type": "code",
   "execution_count": 16,
   "metadata": {},
   "outputs": [],
   "source": [
    "with open(data_path + \"/data_friction.json\", 'w') as f:\n",
    "    json.dump(friction_data_list, f, indent=4)"
   ]
  }
 ],
 "metadata": {
  "kernelspec": {
   "display_name": "clip",
   "language": "python",
   "name": "python3"
  },
  "language_info": {
   "codemirror_mode": {
    "name": "ipython",
    "version": 3
   },
   "file_extension": ".py",
   "mimetype": "text/x-python",
   "name": "python",
   "nbconvert_exporter": "python",
   "pygments_lexer": "ipython3",
   "version": "3.12.4"
  },
  "orig_nbformat": 4
 },
 "nbformat": 4,
 "nbformat_minor": 2
}
