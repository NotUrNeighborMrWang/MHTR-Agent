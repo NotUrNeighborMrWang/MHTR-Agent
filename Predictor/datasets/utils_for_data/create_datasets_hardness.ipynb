{
 "cells": [
  {
   "cell_type": "code",
   "execution_count": 26,
   "metadata": {},
   "outputs": [],
   "source": [
    "import os\n",
    "import pandas as pd\n",
    "import numpy as np\n",
    "import json\n",
    "\n",
    "import warnings\n",
    "warnings.simplefilter(action='ignore', category=FutureWarning)\n",
    "\n",
    "import platform\n",
    "system_name = platform.system()"
   ]
  },
  {
   "cell_type": "code",
   "execution_count": 27,
   "metadata": {},
   "outputs": [],
   "source": [
    "tt_flag = \"train\"\n",
    "if tt_flag == \"train\":\n",
    "    data_path = \"../data/train/\"\n",
    "elif tt_flag == \"test\":\n",
    "    data_path = \"../data/test/\"\n",
    "    \n",
    "metallographic_path = data_path + \"metallographic\"\n",
    "hardness_path = data_path + \"hardness\" "
   ]
  },
  {
   "cell_type": "code",
   "execution_count": 28,
   "metadata": {},
   "outputs": [],
   "source": [
    "grade_num_list = [\"1cr\", \"2cr\", \"3cr\", \"4cr\"]\n",
    "process_num_list = [\"process_01\", \"process_02\", \"process_03\", \"process_04\", \"process_05\", \"process_06\", \"process_07\", \"process_08\",\n",
    "                    \"process_09\", \"process_10\", \"process_11\", \"process_12\", \"process_13\", \"process_14\", \"process_15\", \"process_16\", \"process_17\", \"process_18\"]\n",
    "\n",
    "grade_dict = {'1cr': ['0.08', '1.00', '1.00', '0.04', '0.03', '0.06', '11.50', '86.29'],\n",
    "              '2cr': ['0.16', '1.00', '1.00', '0.04', '0.03', '0.06', '13.00', '84.71'],\n",
    "              '3cr': ['0.26', '1.00', '1.00', '0.04', '0.03', '0.06', '12.00', '85.61'],\n",
    "              '4cr': ['0.36', '0.60', '0.80', '1.04', '0.03', '0.06', '13.00', '84.11']}\n",
    "process_dict = {'process_01': ['1050', '1000', '160'],\n",
    "                'process_02': ['1050', '1000', '200'],\n",
    "                'process_03': ['1050', '1000', '240'],\n",
    "                'process_04': ['1050', '1020', '160'],\n",
    "                'process_05': ['1050', '1020', '200'],\n",
    "                'process_06': ['1050', '1020', '240'],\n",
    "                'process_07': ['1050', '1040', '160'],\n",
    "                'process_08': ['1050', '1040', '200'],\n",
    "                'process_09': ['1050', '1040', '240'],\n",
    "                'process_10': ['980', '1000', '160'],\n",
    "                'process_11': ['980', '1000', '200'],\n",
    "                'process_12': ['980', '1000', '240'],\n",
    "                'process_13': ['980', '1020', '160'],\n",
    "                'process_14': ['980', '1020', '200'],\n",
    "                'process_15': ['980', '1020', '240'],\n",
    "                'process_16': ['980', '1040', '160'],\n",
    "                'process_17': ['980', '1040', '200'],\n",
    "                'process_18': ['980', '1040', '240']}"
   ]
  },
  {
   "cell_type": "code",
   "execution_count": 29,
   "metadata": {},
   "outputs": [
    {
     "name": "stdout",
     "output_type": "stream",
     "text": [
      "646\n"
     ]
    }
   ],
   "source": [
    "cut_image_list = []\n",
    "\n",
    "def get_image_paths(folder_path):\n",
    "    image_paths = []\n",
    "    for root, dirs, files in os.walk(folder_path):\n",
    "        for file in files:\n",
    "            if file.endswith(('.jpg', '.png', '.jpeg')):\n",
    "                image_paths.append(os.path.join(root, file))  \n",
    "    return image_paths\n",
    "\n",
    "\n",
    "for grade_num in grade_num_list:\n",
    "    for process_num in process_num_list:\n",
    "\n",
    "        pic_cut_path = metallographic_path + \"/\" + grade_num + \"/\" + process_num + \"/cut\"  \n",
    "        for root, dirs, files in os.walk(pic_cut_path):\n",
    "            for file in files:\n",
    "                if file.endswith(('.jpg', '.png', '.jpeg')): \n",
    "                    cut_image_list.append(os.path.join(root, file))  \n",
    "\n",
    "print(len(cut_image_list))\n"
   ]
  },
  {
   "cell_type": "code",
   "execution_count": 30,
   "metadata": {},
   "outputs": [],
   "source": [
    "def read_hardness_data(file_path):\n",
    "    df = pd.read_excel(file_path)\n",
    "    for index, row in df.iterrows():\n",
    "        if row[0] == 'test times':\n",
    "            return df.iloc[:index]"
   ]
  },
  {
   "cell_type": "code",
   "execution_count": 31,
   "metadata": {
    "scrolled": true
   },
   "outputs": [],
   "source": [
    "cut_data_list = []\n",
    "for pic_cut_path in cut_image_list:\n",
    "    path_parts = os.path.normpath(pic_cut_path).split(os.sep)\n",
    "    if system_name == \"Windows\":\n",
    "        image_path = \"../../datasets\" + pic_cut_path[2:]\n",
    "    elif system_name == \"Linux\":\n",
    "        image_path = \"/hy-tmp/datasets\" + pic_cut_path[2:]\n",
    "           \n",
    "    grade_value = grade_dict[path_parts[-4]]\n",
    "    process_value = process_dict[path_parts[-3]]\n",
    "    \n",
    "    hardness_data = read_hardness_data(hardness_path + \"/\" + str(path_parts[-4]) + \"/\" + str(path_parts[-3][:-3] + path_parts[-3][-2:]) + \"_1.xls\")\n",
    "    hardness_curve = hardness_data.iloc[:,5].tolist() \n",
    "    if len(hardness_curve) >= 14:\n",
    "        hardness_curve = hardness_curve[:14]\n",
    "    else:\n",
    "        last_value = hardness_curve[-1]\n",
    "        hardness_curve.append(last_value)\n",
    "        hardness_curve.append(last_value)\n",
    "\n",
    "    cut_data_list.append({\n",
    "        \"image\": image_path,\n",
    "        \"grade\": grade_value,\n",
    "        \"process\": process_value,\n",
    "        \"hardness_curve\": hardness_curve\n",
    "    })\n"
   ]
  },
  {
   "cell_type": "code",
   "execution_count": 32,
   "metadata": {},
   "outputs": [],
   "source": [
    "with open(data_path + \"data_cut.json\", 'w') as f:\n",
    "    json.dump(cut_data_list, f, indent=4)"
   ]
  }
 ],
 "metadata": {
  "kernelspec": {
   "display_name": "Python 3 (ipykernel)",
   "language": "python",
   "name": "python3"
  },
  "language_info": {
   "codemirror_mode": {
    "name": "ipython",
    "version": 3
   },
   "file_extension": ".py",
   "mimetype": "text/x-python",
   "name": "python",
   "nbconvert_exporter": "python",
   "pygments_lexer": "ipython3",
   "version": "3.12.4"
  }
 },
 "nbformat": 4,
 "nbformat_minor": 4
}
